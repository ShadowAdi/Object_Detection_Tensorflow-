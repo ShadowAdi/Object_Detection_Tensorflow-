{
 "cells": [
  {
   "cell_type": "code",
   "execution_count": 1,
   "id": "2b8ddfdd",
   "metadata": {
    "_cell_guid": "b1076dfc-b9ad-4769-8c92-a6c4dae69d19",
    "_uuid": "8f2839f25d086af736a60e9eeb907d3b93b6e0e5",
    "execution": {
     "iopub.execute_input": "2024-04-12T04:47:17.855767Z",
     "iopub.status.busy": "2024-04-12T04:47:17.854851Z",
     "iopub.status.idle": "2024-04-12T04:47:32.518519Z",
     "shell.execute_reply": "2024-04-12T04:47:32.517400Z"
    },
    "papermill": {
     "duration": 14.679185,
     "end_time": "2024-04-12T04:47:32.521036",
     "exception": false,
     "start_time": "2024-04-12T04:47:17.841851",
     "status": "completed"
    },
    "tags": []
   },
   "outputs": [],
   "source": [
    "!pip install ultralytics -q"
   ]
  },
  {
   "cell_type": "code",
   "execution_count": 2,
   "id": "47b5db43",
   "metadata": {
    "execution": {
     "iopub.execute_input": "2024-04-12T04:47:32.544056Z",
     "iopub.status.busy": "2024-04-12T04:47:32.543695Z",
     "iopub.status.idle": "2024-04-12T04:47:39.271884Z",
     "shell.execute_reply": "2024-04-12T04:47:39.270890Z"
    },
    "papermill": {
     "duration": 6.742232,
     "end_time": "2024-04-12T04:47:39.274318",
     "exception": false,
     "start_time": "2024-04-12T04:47:32.532086",
     "status": "completed"
    },
    "tags": []
   },
   "outputs": [],
   "source": [
    "from ultralytics import YOLO\n",
    "import pandas as pd\n",
    "import numpy as np\n",
    "import seaborn as sns\n",
    "import matplotlib.pyplot as plt\n",
    "from pathlib import Path\n",
    "import json\n",
    "from sklearn.model_selection import train_test_split\n",
    "from tqdm.auto import tqdm\n",
    "import shutil\n",
    "from PIL import Image"
   ]
  },
  {
   "cell_type": "code",
   "execution_count": 3,
   "id": "c5dd0147",
   "metadata": {
    "execution": {
     "iopub.execute_input": "2024-04-12T04:47:39.297616Z",
     "iopub.status.busy": "2024-04-12T04:47:39.297201Z",
     "iopub.status.idle": "2024-04-12T04:47:39.301978Z",
     "shell.execute_reply": "2024-04-12T04:47:39.301016Z"
    },
    "papermill": {
     "duration": 0.018565,
     "end_time": "2024-04-12T04:47:39.304034",
     "exception": false,
     "start_time": "2024-04-12T04:47:39.285469",
     "status": "completed"
    },
    "tags": []
   },
   "outputs": [],
   "source": [
    "base_dir=Path(\"/kaggle/input/kitti-dataset\")\n",
    "img_path=base_dir / 'data_object_image_2' / 'training' / 'image_2'\n",
    "label_path=Path(\"/kaggle/input/kitti-dataset-yolo-format/labels\")"
   ]
  },
  {
   "cell_type": "code",
   "execution_count": 4,
   "id": "4eb9173e",
   "metadata": {
    "execution": {
     "iopub.execute_input": "2024-04-12T04:47:39.327722Z",
     "iopub.status.busy": "2024-04-12T04:47:39.327445Z",
     "iopub.status.idle": "2024-04-12T04:47:39.343154Z",
     "shell.execute_reply": "2024-04-12T04:47:39.342431Z"
    },
    "papermill": {
     "duration": 0.029435,
     "end_time": "2024-04-12T04:47:39.345184",
     "exception": false,
     "start_time": "2024-04-12T04:47:39.315749",
     "status": "completed"
    },
    "tags": []
   },
   "outputs": [],
   "source": [
    "with open(\"/kaggle/input/kitti-dataset-yolo-format/classes.json\",\"r\") as f:\n",
    "    classes=json.load(f)"
   ]
  },
  {
   "cell_type": "code",
   "execution_count": 5,
   "id": "8dddeaca",
   "metadata": {
    "execution": {
     "iopub.execute_input": "2024-04-12T04:47:39.368504Z",
     "iopub.status.busy": "2024-04-12T04:47:39.368244Z",
     "iopub.status.idle": "2024-04-12T04:47:39.374926Z",
     "shell.execute_reply": "2024-04-12T04:47:39.374048Z"
    },
    "papermill": {
     "duration": 0.020613,
     "end_time": "2024-04-12T04:47:39.377013",
     "exception": false,
     "start_time": "2024-04-12T04:47:39.356400",
     "status": "completed"
    },
    "tags": []
   },
   "outputs": [
    {
     "data": {
      "text/plain": [
       "{'Car': 0,\n",
       " 'Pedestrian': 1,\n",
       " 'Van': 2,\n",
       " 'Cyclist': 3,\n",
       " 'Truck': 4,\n",
       " 'Misc': 5,\n",
       " 'Tram': 6,\n",
       " 'Person_sitting': 7}"
      ]
     },
     "execution_count": 5,
     "metadata": {},
     "output_type": "execute_result"
    }
   ],
   "source": [
    "classes"
   ]
  },
  {
   "cell_type": "code",
   "execution_count": 6,
   "id": "d3c99a7a",
   "metadata": {
    "execution": {
     "iopub.execute_input": "2024-04-12T04:47:39.401589Z",
     "iopub.status.busy": "2024-04-12T04:47:39.401327Z",
     "iopub.status.idle": "2024-04-12T04:47:40.269836Z",
     "shell.execute_reply": "2024-04-12T04:47:40.269000Z"
    },
    "papermill": {
     "duration": 0.883539,
     "end_time": "2024-04-12T04:47:40.272083",
     "exception": false,
     "start_time": "2024-04-12T04:47:39.388544",
     "status": "completed"
    },
    "tags": []
   },
   "outputs": [],
   "source": [
    "images=sorted(list(img_path.glob(\"*\")))"
   ]
  },
  {
   "cell_type": "code",
   "execution_count": 7,
   "id": "557cf568",
   "metadata": {
    "execution": {
     "iopub.execute_input": "2024-04-12T04:47:40.295497Z",
     "iopub.status.busy": "2024-04-12T04:47:40.295183Z",
     "iopub.status.idle": "2024-04-12T04:47:41.006598Z",
     "shell.execute_reply": "2024-04-12T04:47:41.005626Z"
    },
    "papermill": {
     "duration": 0.726152,
     "end_time": "2024-04-12T04:47:41.009012",
     "exception": false,
     "start_time": "2024-04-12T04:47:40.282860",
     "status": "completed"
    },
    "tags": []
   },
   "outputs": [],
   "source": [
    "labels=sorted(list(label_path.glob(\"*\")))"
   ]
  },
  {
   "cell_type": "code",
   "execution_count": 8,
   "id": "10b20b64",
   "metadata": {
    "execution": {
     "iopub.execute_input": "2024-04-12T04:47:41.031932Z",
     "iopub.status.busy": "2024-04-12T04:47:41.031598Z",
     "iopub.status.idle": "2024-04-12T04:47:41.039606Z",
     "shell.execute_reply": "2024-04-12T04:47:41.038739Z"
    },
    "papermill": {
     "duration": 0.021571,
     "end_time": "2024-04-12T04:47:41.041585",
     "exception": false,
     "start_time": "2024-04-12T04:47:41.020014",
     "status": "completed"
    },
    "tags": []
   },
   "outputs": [
    {
     "data": {
      "text/plain": [
       "[(PosixPath('/kaggle/input/kitti-dataset/data_object_image_2/training/image_2/000000.png'),\n",
       "  PosixPath('/kaggle/input/kitti-dataset-yolo-format/labels/000000.txt')),\n",
       " (PosixPath('/kaggle/input/kitti-dataset/data_object_image_2/training/image_2/000001.png'),\n",
       "  PosixPath('/kaggle/input/kitti-dataset-yolo-format/labels/000001.txt')),\n",
       " (PosixPath('/kaggle/input/kitti-dataset/data_object_image_2/training/image_2/000002.png'),\n",
       "  PosixPath('/kaggle/input/kitti-dataset-yolo-format/labels/000002.txt')),\n",
       " (PosixPath('/kaggle/input/kitti-dataset/data_object_image_2/training/image_2/000003.png'),\n",
       "  PosixPath('/kaggle/input/kitti-dataset-yolo-format/labels/000003.txt'))]"
      ]
     },
     "execution_count": 8,
     "metadata": {},
     "output_type": "execute_result"
    }
   ],
   "source": [
    "pairs=list(zip(images,labels))\n",
    "pairs[:4]"
   ]
  },
  {
   "cell_type": "code",
   "execution_count": 9,
   "id": "5e3bfc40",
   "metadata": {
    "execution": {
     "iopub.execute_input": "2024-04-12T04:47:41.063838Z",
     "iopub.status.busy": "2024-04-12T04:47:41.063080Z",
     "iopub.status.idle": "2024-04-12T04:47:41.071196Z",
     "shell.execute_reply": "2024-04-12T04:47:41.070357Z"
    },
    "papermill": {
     "duration": 0.020904,
     "end_time": "2024-04-12T04:47:41.073010",
     "exception": false,
     "start_time": "2024-04-12T04:47:41.052106",
     "status": "completed"
    },
    "tags": []
   },
   "outputs": [],
   "source": [
    "train, test = train_test_split(pairs, test_size=0.2,shuffle=True, random_state=42)"
   ]
  },
  {
   "cell_type": "code",
   "execution_count": 10,
   "id": "f4ba9e91",
   "metadata": {
    "execution": {
     "iopub.execute_input": "2024-04-12T04:47:41.095178Z",
     "iopub.status.busy": "2024-04-12T04:47:41.094915Z",
     "iopub.status.idle": "2024-04-12T04:47:41.099261Z",
     "shell.execute_reply": "2024-04-12T04:47:41.098425Z"
    },
    "papermill": {
     "duration": 0.017594,
     "end_time": "2024-04-12T04:47:41.101323",
     "exception": false,
     "start_time": "2024-04-12T04:47:41.083729",
     "status": "completed"
    },
    "tags": []
   },
   "outputs": [
    {
     "name": "stdout",
     "output_type": "stream",
     "text": [
      "Length of train set: 5984\n",
      "Length of test set: 1497\n"
     ]
    }
   ],
   "source": [
    "print(\"Length of train set:\", len(train))\n",
    "print(\"Length of test set:\", len(test))"
   ]
  },
  {
   "cell_type": "code",
   "execution_count": 11,
   "id": "a0be0f16",
   "metadata": {
    "execution": {
     "iopub.execute_input": "2024-04-12T04:47:41.123228Z",
     "iopub.status.busy": "2024-04-12T04:47:41.122987Z",
     "iopub.status.idle": "2024-04-12T04:47:41.127082Z",
     "shell.execute_reply": "2024-04-12T04:47:41.126278Z"
    },
    "papermill": {
     "duration": 0.017025,
     "end_time": "2024-04-12T04:47:41.128912",
     "exception": false,
     "start_time": "2024-04-12T04:47:41.111887",
     "status": "completed"
    },
    "tags": []
   },
   "outputs": [],
   "source": [
    "train_path = Path('train').resolve()\n",
    "train_path.mkdir(exist_ok=True)"
   ]
  },
  {
   "cell_type": "code",
   "execution_count": 12,
   "id": "65355cca",
   "metadata": {
    "execution": {
     "iopub.execute_input": "2024-04-12T04:47:41.150689Z",
     "iopub.status.busy": "2024-04-12T04:47:41.150453Z",
     "iopub.status.idle": "2024-04-12T04:47:41.154350Z",
     "shell.execute_reply": "2024-04-12T04:47:41.153547Z"
    },
    "papermill": {
     "duration": 0.016828,
     "end_time": "2024-04-12T04:47:41.156183",
     "exception": false,
     "start_time": "2024-04-12T04:47:41.139355",
     "status": "completed"
    },
    "tags": []
   },
   "outputs": [],
   "source": [
    "valid_path = Path('valid').resolve()\n",
    "valid_path.mkdir(exist_ok=True)"
   ]
  },
  {
   "cell_type": "code",
   "execution_count": 13,
   "id": "f550c80a",
   "metadata": {
    "execution": {
     "iopub.execute_input": "2024-04-12T04:47:41.177795Z",
     "iopub.status.busy": "2024-04-12T04:47:41.177525Z",
     "iopub.status.idle": "2024-04-12T04:51:03.200019Z",
     "shell.execute_reply": "2024-04-12T04:51:03.198952Z"
    },
    "papermill": {
     "duration": 202.035614,
     "end_time": "2024-04-12T04:51:03.202174",
     "exception": false,
     "start_time": "2024-04-12T04:47:41.166560",
     "status": "completed"
    },
    "tags": []
   },
   "outputs": [
    {
     "data": {
      "application/vnd.jupyter.widget-view+json": {
       "model_id": "e7b39a4ecd7d4612a2bc4414aa78b50f",
       "version_major": 2,
       "version_minor": 0
      },
      "text/plain": [
       "  0%|          | 0/5984 [00:00<?, ?it/s]"
      ]
     },
     "metadata": {},
     "output_type": "display_data"
    }
   ],
   "source": [
    "for t_image,t_label in tqdm(train):\n",
    "    im_path=train_path / t_image.name\n",
    "    lb_path=train_path / t_label.name\n",
    "    shutil.copy(t_image,im_path)\n",
    "    shutil.copy(t_label,lb_path)    "
   ]
  },
  {
   "cell_type": "code",
   "execution_count": 14,
   "id": "39ee2061",
   "metadata": {
    "execution": {
     "iopub.execute_input": "2024-04-12T04:51:03.226652Z",
     "iopub.status.busy": "2024-04-12T04:51:03.225970Z",
     "iopub.status.idle": "2024-04-12T04:51:54.096019Z",
     "shell.execute_reply": "2024-04-12T04:51:54.095006Z"
    },
    "papermill": {
     "duration": 50.884269,
     "end_time": "2024-04-12T04:51:54.098274",
     "exception": false,
     "start_time": "2024-04-12T04:51:03.214005",
     "status": "completed"
    },
    "tags": []
   },
   "outputs": [
    {
     "data": {
      "application/vnd.jupyter.widget-view+json": {
       "model_id": "74f31ce38c6f470b93422a8b0413648a",
       "version_major": 2,
       "version_minor": 0
      },
      "text/plain": [
       "  0%|          | 0/1497 [00:00<?, ?it/s]"
      ]
     },
     "metadata": {},
     "output_type": "display_data"
    }
   ],
   "source": [
    "for t_image,t_label in tqdm(test):\n",
    "    im_path=valid_path / t_image.name\n",
    "    lb_path=valid_path / t_label.name\n",
    "    shutil.copy(t_image,im_path)\n",
    "    shutil.copy(t_label,lb_path)    "
   ]
  },
  {
   "cell_type": "code",
   "execution_count": 15,
   "id": "94275c03",
   "metadata": {
    "execution": {
     "iopub.execute_input": "2024-04-12T04:51:54.122679Z",
     "iopub.status.busy": "2024-04-12T04:51:54.122340Z",
     "iopub.status.idle": "2024-04-12T04:51:54.128083Z",
     "shell.execute_reply": "2024-04-12T04:51:54.127217Z"
    },
    "papermill": {
     "duration": 0.02011,
     "end_time": "2024-04-12T04:51:54.129982",
     "exception": false,
     "start_time": "2024-04-12T04:51:54.109872",
     "status": "completed"
    },
    "tags": []
   },
   "outputs": [],
   "source": [
    "yaml_file = 'names:\\n'\n",
    "yaml_file += '\\n'.join(f'- {c}' for c in classes)\n",
    "yaml_file += f'\\nnc: {len(classes)}'\n",
    "yaml_file += f'\\ntrain: {str(train_path)}\\nval: {str(valid_path)}'\n",
    "with open('kitti.yaml','w') as f:\n",
    "    f.write(yaml_file)"
   ]
  },
  {
   "cell_type": "code",
   "execution_count": 16,
   "id": "871dc75c",
   "metadata": {
    "execution": {
     "iopub.execute_input": "2024-04-12T04:51:54.152798Z",
     "iopub.status.busy": "2024-04-12T04:51:54.152511Z",
     "iopub.status.idle": "2024-04-12T04:51:55.128384Z",
     "shell.execute_reply": "2024-04-12T04:51:55.127364Z"
    },
    "papermill": {
     "duration": 0.989615,
     "end_time": "2024-04-12T04:51:55.130624",
     "exception": false,
     "start_time": "2024-04-12T04:51:54.141009",
     "status": "completed"
    },
    "tags": []
   },
   "outputs": [
    {
     "name": "stdout",
     "output_type": "stream",
     "text": [
      "names:\r\n",
      "- Car\r\n",
      "- Pedestrian\r\n",
      "- Van\r\n",
      "- Cyclist\r\n",
      "- Truck\r\n",
      "- Misc\r\n",
      "- Tram\r\n",
      "- Person_sitting\r\n",
      "nc: 8\r\n",
      "train: /kaggle/working/train\r\n",
      "val: /kaggle/working/valid"
     ]
    }
   ],
   "source": [
    "!cat kitti.yaml\n"
   ]
  },
  {
   "cell_type": "code",
   "execution_count": 17,
   "id": "94f1658c",
   "metadata": {
    "execution": {
     "iopub.execute_input": "2024-04-12T04:51:55.155262Z",
     "iopub.status.busy": "2024-04-12T04:51:55.154947Z",
     "iopub.status.idle": "2024-04-12T04:51:56.072313Z",
     "shell.execute_reply": "2024-04-12T04:51:56.071356Z"
    },
    "papermill": {
     "duration": 0.932095,
     "end_time": "2024-04-12T04:51:56.074408",
     "exception": false,
     "start_time": "2024-04-12T04:51:55.142313",
     "status": "completed"
    },
    "tags": []
   },
   "outputs": [
    {
     "name": "stdout",
     "output_type": "stream",
     "text": [
      "Downloading https://github.com/ultralytics/assets/releases/download/v8.1.0/yolov8n.pt to 'yolov8n.pt'...\n"
     ]
    },
    {
     "name": "stderr",
     "output_type": "stream",
     "text": [
      "100%|██████████| 6.23M/6.23M [00:00<00:00, 107MB/s]\n"
     ]
    }
   ],
   "source": [
    "model=YOLO(\"yolov8n.pt\")"
   ]
  },
  {
   "cell_type": "code",
   "execution_count": 18,
   "id": "1e8abce5",
   "metadata": {
    "execution": {
     "iopub.execute_input": "2024-04-12T04:51:56.099185Z",
     "iopub.status.busy": "2024-04-12T04:51:56.098845Z",
     "iopub.status.idle": "2024-04-12T04:52:15.997871Z",
     "shell.execute_reply": "2024-04-12T04:52:15.996340Z"
    },
    "papermill": {
     "duration": 19.913365,
     "end_time": "2024-04-12T04:52:15.999589",
     "exception": true,
     "start_time": "2024-04-12T04:51:56.086224",
     "status": "failed"
    },
    "tags": []
   },
   "outputs": [
    {
     "name": "stdout",
     "output_type": "stream",
     "text": [
      "Ultralytics YOLOv8.1.47 🚀 Python-3.10.13 torch-2.1.2 CUDA:0 (Tesla T4, 15102MiB)\n",
      "\u001b[34m\u001b[1mengine/trainer: \u001b[0mtask=detect, mode=train, model=yolov8n.pt, data=/kaggle/working/kitti.yaml, epochs=20, time=None, patience=3, batch=16, imgsz=640, save=True, save_period=-1, cache=False, device=None, workers=8, project=yolov8n-kitti, name=train, exist_ok=False, pretrained=True, optimizer=auto, verbose=True, seed=0, deterministic=True, single_cls=False, rect=False, cos_lr=False, close_mosaic=10, resume=False, amp=True, fraction=1.0, profile=False, freeze=None, multi_scale=False, overlap_mask=True, mask_ratio=4, dropout=0.0, val=True, split=val, save_json=False, save_hybrid=False, conf=None, iou=0.7, max_det=300, half=False, dnn=False, plots=True, source=None, vid_stride=1, stream_buffer=False, visualize=False, augment=False, agnostic_nms=False, classes=None, retina_masks=False, embed=None, show=False, save_frames=False, save_txt=False, save_conf=False, save_crop=False, show_labels=True, show_conf=True, show_boxes=True, line_width=None, format=torchscript, keras=False, optimize=False, int8=False, dynamic=False, simplify=False, opset=None, workspace=4, nms=False, lr0=0.01, lrf=0.01, momentum=0.937, weight_decay=0.0005, warmup_epochs=3.0, warmup_momentum=0.8, warmup_bias_lr=0.1, box=7.5, cls=0.5, dfl=1.5, pose=12.0, kobj=1.0, label_smoothing=0.0, nbs=64, hsv_h=0.015, hsv_s=0.7, hsv_v=0.4, degrees=0.0, translate=0.1, scale=0.5, shear=0.0, perspective=0.0, flipud=0.0, fliplr=0.5, bgr=0.0, mosaic=1.0, mixup=0.1, copy_paste=0.0, auto_augment=randaugment, erasing=0.4, crop_fraction=1.0, cfg=None, tracker=botsort.yaml, save_dir=yolov8n-kitti/train\n",
      "Downloading https://ultralytics.com/assets/Arial.ttf to '/root/.config/Ultralytics/Arial.ttf'...\n"
     ]
    },
    {
     "name": "stderr",
     "output_type": "stream",
     "text": [
      "100%|██████████| 755k/755k [00:00<00:00, 19.7MB/s]\n",
      "2024-04-12 04:51:59,397\tINFO util.py:124 -- Outdated packages:\n",
      "  ipywidgets==7.7.1 found, needs ipywidgets>=8\n",
      "Run `pip install -U ipywidgets`, then restart the notebook server for rich notebook output.\n",
      "2024-04-12 04:52:00,189\tINFO util.py:124 -- Outdated packages:\n",
      "  ipywidgets==7.7.1 found, needs ipywidgets>=8\n",
      "Run `pip install -U ipywidgets`, then restart the notebook server for rich notebook output.\n",
      "2024-04-12 04:52:02.733605: E external/local_xla/xla/stream_executor/cuda/cuda_dnn.cc:9261] Unable to register cuDNN factory: Attempting to register factory for plugin cuDNN when one has already been registered\n",
      "2024-04-12 04:52:02.733738: E external/local_xla/xla/stream_executor/cuda/cuda_fft.cc:607] Unable to register cuFFT factory: Attempting to register factory for plugin cuFFT when one has already been registered\n",
      "2024-04-12 04:52:02.877573: E external/local_xla/xla/stream_executor/cuda/cuda_blas.cc:1515] Unable to register cuBLAS factory: Attempting to register factory for plugin cuBLAS when one has already been registered\n"
     ]
    },
    {
     "name": "stdout",
     "output_type": "stream",
     "text": [
      "Overriding model.yaml nc=80 with nc=8\n",
      "\n",
      "                   from  n    params  module                                       arguments                     \n",
      "  0                  -1  1       464  ultralytics.nn.modules.conv.Conv             [3, 16, 3, 2]                 \n",
      "  1                  -1  1      4672  ultralytics.nn.modules.conv.Conv             [16, 32, 3, 2]                \n",
      "  2                  -1  1      7360  ultralytics.nn.modules.block.C2f             [32, 32, 1, True]             \n",
      "  3                  -1  1     18560  ultralytics.nn.modules.conv.Conv             [32, 64, 3, 2]                \n",
      "  4                  -1  2     49664  ultralytics.nn.modules.block.C2f             [64, 64, 2, True]             \n",
      "  5                  -1  1     73984  ultralytics.nn.modules.conv.Conv             [64, 128, 3, 2]               \n",
      "  6                  -1  2    197632  ultralytics.nn.modules.block.C2f             [128, 128, 2, True]           \n",
      "  7                  -1  1    295424  ultralytics.nn.modules.conv.Conv             [128, 256, 3, 2]              \n",
      "  8                  -1  1    460288  ultralytics.nn.modules.block.C2f             [256, 256, 1, True]           \n",
      "  9                  -1  1    164608  ultralytics.nn.modules.block.SPPF            [256, 256, 5]                 \n",
      " 10                  -1  1         0  torch.nn.modules.upsampling.Upsample         [None, 2, 'nearest']          \n",
      " 11             [-1, 6]  1         0  ultralytics.nn.modules.conv.Concat           [1]                           \n",
      " 12                  -1  1    148224  ultralytics.nn.modules.block.C2f             [384, 128, 1]                 \n",
      " 13                  -1  1         0  torch.nn.modules.upsampling.Upsample         [None, 2, 'nearest']          \n",
      " 14             [-1, 4]  1         0  ultralytics.nn.modules.conv.Concat           [1]                           \n",
      " 15                  -1  1     37248  ultralytics.nn.modules.block.C2f             [192, 64, 1]                  \n",
      " 16                  -1  1     36992  ultralytics.nn.modules.conv.Conv             [64, 64, 3, 2]                \n",
      " 17            [-1, 12]  1         0  ultralytics.nn.modules.conv.Concat           [1]                           \n",
      " 18                  -1  1    123648  ultralytics.nn.modules.block.C2f             [192, 128, 1]                 \n",
      " 19                  -1  1    147712  ultralytics.nn.modules.conv.Conv             [128, 128, 3, 2]              \n",
      " 20             [-1, 9]  1         0  ultralytics.nn.modules.conv.Concat           [1]                           \n",
      " 21                  -1  1    493056  ultralytics.nn.modules.block.C2f             [384, 256, 1]                 \n",
      " 22        [15, 18, 21]  1    752872  ultralytics.nn.modules.head.Detect           [8, [64, 128, 256]]           \n",
      "Model summary: 225 layers, 3012408 parameters, 3012392 gradients, 8.2 GFLOPs\n",
      "\n",
      "Transferred 319/355 items from pretrained weights\n",
      "\u001b[34m\u001b[1mTensorBoard: \u001b[0mStart with 'tensorboard --logdir yolov8n-kitti/train', view at http://localhost:6006/\n"
     ]
    },
    {
     "ename": "UsageError",
     "evalue": "api_key not configured (no-tty). call wandb.login(key=[your_api_key])",
     "output_type": "error",
     "traceback": [
      "\u001b[0;31m---------------------------------------------------------------------------\u001b[0m",
      "\u001b[0;31mUsageError\u001b[0m                                Traceback (most recent call last)",
      "Cell \u001b[0;32mIn[18], line 1\u001b[0m\n\u001b[0;32m----> 1\u001b[0m train_results\u001b[38;5;241m=\u001b[39m\u001b[43mmodel\u001b[49m\u001b[38;5;241;43m.\u001b[39;49m\u001b[43mtrain\u001b[49m\u001b[43m(\u001b[49m\n\u001b[1;32m      2\u001b[0m \u001b[43m    \u001b[49m\u001b[43mdata\u001b[49m\u001b[38;5;241;43m=\u001b[39;49m\u001b[38;5;124;43m\"\u001b[39;49m\u001b[38;5;124;43m/kaggle/working/kitti.yaml\u001b[39;49m\u001b[38;5;124;43m\"\u001b[39;49m\u001b[43m,\u001b[49m\n\u001b[1;32m      3\u001b[0m \u001b[43m    \u001b[49m\u001b[43mepochs\u001b[49m\u001b[38;5;241;43m=\u001b[39;49m\u001b[38;5;241;43m20\u001b[39;49m\u001b[43m,\u001b[49m\n\u001b[1;32m      4\u001b[0m \u001b[43m    \u001b[49m\u001b[43mpatience\u001b[49m\u001b[38;5;241;43m=\u001b[39;49m\u001b[38;5;241;43m3\u001b[39;49m\u001b[43m,\u001b[49m\n\u001b[1;32m      5\u001b[0m \u001b[43m    \u001b[49m\u001b[43mmixup\u001b[49m\u001b[38;5;241;43m=\u001b[39;49m\u001b[38;5;241;43m0.1\u001b[39;49m\u001b[43m,\u001b[49m\n\u001b[1;32m      6\u001b[0m \u001b[43m    \u001b[49m\u001b[43mproject\u001b[49m\u001b[38;5;241;43m=\u001b[39;49m\u001b[38;5;124;43m\"\u001b[39;49m\u001b[38;5;124;43myolov8n-kitti\u001b[39;49m\u001b[38;5;124;43m\"\u001b[39;49m\u001b[43m,\u001b[49m\n\u001b[1;32m      7\u001b[0m \u001b[43m)\u001b[49m\n",
      "File \u001b[0;32m/opt/conda/lib/python3.10/site-packages/ultralytics/engine/model.py:668\u001b[0m, in \u001b[0;36mModel.train\u001b[0;34m(self, trainer, **kwargs)\u001b[0m\n\u001b[1;32m    665\u001b[0m             \u001b[38;5;28;01mpass\u001b[39;00m\n\u001b[1;32m    667\u001b[0m \u001b[38;5;28mself\u001b[39m\u001b[38;5;241m.\u001b[39mtrainer\u001b[38;5;241m.\u001b[39mhub_session \u001b[38;5;241m=\u001b[39m \u001b[38;5;28mself\u001b[39m\u001b[38;5;241m.\u001b[39msession  \u001b[38;5;66;03m# attach optional HUB session\u001b[39;00m\n\u001b[0;32m--> 668\u001b[0m \u001b[38;5;28;43mself\u001b[39;49m\u001b[38;5;241;43m.\u001b[39;49m\u001b[43mtrainer\u001b[49m\u001b[38;5;241;43m.\u001b[39;49m\u001b[43mtrain\u001b[49m\u001b[43m(\u001b[49m\u001b[43m)\u001b[49m\n\u001b[1;32m    669\u001b[0m \u001b[38;5;66;03m# Update model and cfg after training\u001b[39;00m\n\u001b[1;32m    670\u001b[0m \u001b[38;5;28;01mif\u001b[39;00m RANK \u001b[38;5;129;01min\u001b[39;00m {\u001b[38;5;241m-\u001b[39m\u001b[38;5;241m1\u001b[39m, \u001b[38;5;241m0\u001b[39m}:\n",
      "File \u001b[0;32m/opt/conda/lib/python3.10/site-packages/ultralytics/engine/trainer.py:198\u001b[0m, in \u001b[0;36mBaseTrainer.train\u001b[0;34m(self)\u001b[0m\n\u001b[1;32m    195\u001b[0m         ddp_cleanup(\u001b[38;5;28mself\u001b[39m, \u001b[38;5;28mstr\u001b[39m(file))\n\u001b[1;32m    197\u001b[0m \u001b[38;5;28;01melse\u001b[39;00m:\n\u001b[0;32m--> 198\u001b[0m     \u001b[38;5;28;43mself\u001b[39;49m\u001b[38;5;241;43m.\u001b[39;49m\u001b[43m_do_train\u001b[49m\u001b[43m(\u001b[49m\u001b[43mworld_size\u001b[49m\u001b[43m)\u001b[49m\n",
      "File \u001b[0;32m/opt/conda/lib/python3.10/site-packages/ultralytics/engine/trainer.py:312\u001b[0m, in \u001b[0;36mBaseTrainer._do_train\u001b[0;34m(self, world_size)\u001b[0m\n\u001b[1;32m    310\u001b[0m \u001b[38;5;28;01mif\u001b[39;00m world_size \u001b[38;5;241m>\u001b[39m \u001b[38;5;241m1\u001b[39m:\n\u001b[1;32m    311\u001b[0m     \u001b[38;5;28mself\u001b[39m\u001b[38;5;241m.\u001b[39m_setup_ddp(world_size)\n\u001b[0;32m--> 312\u001b[0m \u001b[38;5;28;43mself\u001b[39;49m\u001b[38;5;241;43m.\u001b[39;49m\u001b[43m_setup_train\u001b[49m\u001b[43m(\u001b[49m\u001b[43mworld_size\u001b[49m\u001b[43m)\u001b[49m\n\u001b[1;32m    314\u001b[0m nb \u001b[38;5;241m=\u001b[39m \u001b[38;5;28mlen\u001b[39m(\u001b[38;5;28mself\u001b[39m\u001b[38;5;241m.\u001b[39mtrain_loader)  \u001b[38;5;66;03m# number of batches\u001b[39;00m\n\u001b[1;32m    315\u001b[0m nw \u001b[38;5;241m=\u001b[39m \u001b[38;5;28mmax\u001b[39m(\u001b[38;5;28mround\u001b[39m(\u001b[38;5;28mself\u001b[39m\u001b[38;5;241m.\u001b[39margs\u001b[38;5;241m.\u001b[39mwarmup_epochs \u001b[38;5;241m*\u001b[39m nb), \u001b[38;5;241m100\u001b[39m) \u001b[38;5;28;01mif\u001b[39;00m \u001b[38;5;28mself\u001b[39m\u001b[38;5;241m.\u001b[39margs\u001b[38;5;241m.\u001b[39mwarmup_epochs \u001b[38;5;241m>\u001b[39m \u001b[38;5;241m0\u001b[39m \u001b[38;5;28;01melse\u001b[39;00m \u001b[38;5;241m-\u001b[39m\u001b[38;5;241m1\u001b[39m  \u001b[38;5;66;03m# warmup iterations\u001b[39;00m\n",
      "File \u001b[0;32m/opt/conda/lib/python3.10/site-packages/ultralytics/engine/trainer.py:225\u001b[0m, in \u001b[0;36mBaseTrainer._setup_train\u001b[0;34m(self, world_size)\u001b[0m\n\u001b[1;32m    222\u001b[0m \u001b[38;5;250m\u001b[39m\u001b[38;5;124;03m\"\"\"Builds dataloaders and optimizer on correct rank process.\"\"\"\u001b[39;00m\n\u001b[1;32m    224\u001b[0m \u001b[38;5;66;03m# Model\u001b[39;00m\n\u001b[0;32m--> 225\u001b[0m \u001b[38;5;28;43mself\u001b[39;49m\u001b[38;5;241;43m.\u001b[39;49m\u001b[43mrun_callbacks\u001b[49m\u001b[43m(\u001b[49m\u001b[38;5;124;43m\"\u001b[39;49m\u001b[38;5;124;43mon_pretrain_routine_start\u001b[39;49m\u001b[38;5;124;43m\"\u001b[39;49m\u001b[43m)\u001b[49m\n\u001b[1;32m    226\u001b[0m ckpt \u001b[38;5;241m=\u001b[39m \u001b[38;5;28mself\u001b[39m\u001b[38;5;241m.\u001b[39msetup_model()\n\u001b[1;32m    227\u001b[0m \u001b[38;5;28mself\u001b[39m\u001b[38;5;241m.\u001b[39mmodel \u001b[38;5;241m=\u001b[39m \u001b[38;5;28mself\u001b[39m\u001b[38;5;241m.\u001b[39mmodel\u001b[38;5;241m.\u001b[39mto(\u001b[38;5;28mself\u001b[39m\u001b[38;5;241m.\u001b[39mdevice)\n",
      "File \u001b[0;32m/opt/conda/lib/python3.10/site-packages/ultralytics/engine/trainer.py:161\u001b[0m, in \u001b[0;36mBaseTrainer.run_callbacks\u001b[0;34m(self, event)\u001b[0m\n\u001b[1;32m    159\u001b[0m \u001b[38;5;250m\u001b[39m\u001b[38;5;124;03m\"\"\"Run all existing callbacks associated with a particular event.\"\"\"\u001b[39;00m\n\u001b[1;32m    160\u001b[0m \u001b[38;5;28;01mfor\u001b[39;00m callback \u001b[38;5;129;01min\u001b[39;00m \u001b[38;5;28mself\u001b[39m\u001b[38;5;241m.\u001b[39mcallbacks\u001b[38;5;241m.\u001b[39mget(event, []):\n\u001b[0;32m--> 161\u001b[0m     \u001b[43mcallback\u001b[49m\u001b[43m(\u001b[49m\u001b[38;5;28;43mself\u001b[39;49m\u001b[43m)\u001b[49m\n",
      "File \u001b[0;32m/opt/conda/lib/python3.10/site-packages/ultralytics/utils/callbacks/wb.py:112\u001b[0m, in \u001b[0;36mon_pretrain_routine_start\u001b[0;34m(trainer)\u001b[0m\n\u001b[1;32m    110\u001b[0m \u001b[38;5;28;01mdef\u001b[39;00m \u001b[38;5;21mon_pretrain_routine_start\u001b[39m(trainer):\n\u001b[1;32m    111\u001b[0m \u001b[38;5;250m    \u001b[39m\u001b[38;5;124;03m\"\"\"Initiate and start project if module is present.\"\"\"\u001b[39;00m\n\u001b[0;32m--> 112\u001b[0m     wb\u001b[38;5;241m.\u001b[39mrun \u001b[38;5;129;01mor\u001b[39;00m \u001b[43mwb\u001b[49m\u001b[38;5;241;43m.\u001b[39;49m\u001b[43minit\u001b[49m\u001b[43m(\u001b[49m\u001b[43mproject\u001b[49m\u001b[38;5;241;43m=\u001b[39;49m\u001b[43mtrainer\u001b[49m\u001b[38;5;241;43m.\u001b[39;49m\u001b[43margs\u001b[49m\u001b[38;5;241;43m.\u001b[39;49m\u001b[43mproject\u001b[49m\u001b[43m \u001b[49m\u001b[38;5;129;43;01mor\u001b[39;49;00m\u001b[43m \u001b[49m\u001b[38;5;124;43m\"\u001b[39;49m\u001b[38;5;124;43mYOLOv8\u001b[39;49m\u001b[38;5;124;43m\"\u001b[39;49m\u001b[43m,\u001b[49m\u001b[43m \u001b[49m\u001b[43mname\u001b[49m\u001b[38;5;241;43m=\u001b[39;49m\u001b[43mtrainer\u001b[49m\u001b[38;5;241;43m.\u001b[39;49m\u001b[43margs\u001b[49m\u001b[38;5;241;43m.\u001b[39;49m\u001b[43mname\u001b[49m\u001b[43m,\u001b[49m\u001b[43m \u001b[49m\u001b[43mconfig\u001b[49m\u001b[38;5;241;43m=\u001b[39;49m\u001b[38;5;28;43mvars\u001b[39;49m\u001b[43m(\u001b[49m\u001b[43mtrainer\u001b[49m\u001b[38;5;241;43m.\u001b[39;49m\u001b[43margs\u001b[49m\u001b[43m)\u001b[49m\u001b[43m)\u001b[49m\n",
      "File \u001b[0;32m/opt/conda/lib/python3.10/site-packages/wandb/sdk/wandb_init.py:1206\u001b[0m, in \u001b[0;36minit\u001b[0;34m(job_type, dir, config, project, entity, reinit, tags, group, name, notes, magic, config_exclude_keys, config_include_keys, anonymous, mode, allow_val_change, resume, force, tensorboard, sync_tensorboard, monitor_gym, save_code, id, fork_from, settings)\u001b[0m\n\u001b[1;32m   1204\u001b[0m     \u001b[38;5;28;01mif\u001b[39;00m logger \u001b[38;5;129;01mis\u001b[39;00m \u001b[38;5;129;01mnot\u001b[39;00m \u001b[38;5;28;01mNone\u001b[39;00m:\n\u001b[1;32m   1205\u001b[0m         logger\u001b[38;5;241m.\u001b[39mexception(\u001b[38;5;28mstr\u001b[39m(e))\n\u001b[0;32m-> 1206\u001b[0m     \u001b[38;5;28;01mraise\u001b[39;00m e\n\u001b[1;32m   1207\u001b[0m \u001b[38;5;28;01mexcept\u001b[39;00m \u001b[38;5;167;01mKeyboardInterrupt\u001b[39;00m \u001b[38;5;28;01mas\u001b[39;00m e:\n\u001b[1;32m   1208\u001b[0m     \u001b[38;5;28;01massert\u001b[39;00m logger\n",
      "File \u001b[0;32m/opt/conda/lib/python3.10/site-packages/wandb/sdk/wandb_init.py:1183\u001b[0m, in \u001b[0;36minit\u001b[0;34m(job_type, dir, config, project, entity, reinit, tags, group, name, notes, magic, config_exclude_keys, config_include_keys, anonymous, mode, allow_val_change, resume, force, tensorboard, sync_tensorboard, monitor_gym, save_code, id, fork_from, settings)\u001b[0m\n\u001b[1;32m   1181\u001b[0m \u001b[38;5;28;01mtry\u001b[39;00m:\n\u001b[1;32m   1182\u001b[0m     wi \u001b[38;5;241m=\u001b[39m _WandbInit()\n\u001b[0;32m-> 1183\u001b[0m     \u001b[43mwi\u001b[49m\u001b[38;5;241;43m.\u001b[39;49m\u001b[43msetup\u001b[49m\u001b[43m(\u001b[49m\u001b[43mkwargs\u001b[49m\u001b[43m)\u001b[49m\n\u001b[1;32m   1184\u001b[0m     \u001b[38;5;28;01massert\u001b[39;00m wi\u001b[38;5;241m.\u001b[39msettings\n\u001b[1;32m   1185\u001b[0m     except_exit \u001b[38;5;241m=\u001b[39m wi\u001b[38;5;241m.\u001b[39msettings\u001b[38;5;241m.\u001b[39m_except_exit\n",
      "File \u001b[0;32m/opt/conda/lib/python3.10/site-packages/wandb/sdk/wandb_init.py:307\u001b[0m, in \u001b[0;36m_WandbInit.setup\u001b[0;34m(self, kwargs)\u001b[0m\n\u001b[1;32m    304\u001b[0m     settings\u001b[38;5;241m.\u001b[39mupdate(init_settings, source\u001b[38;5;241m=\u001b[39mSource\u001b[38;5;241m.\u001b[39mINIT)\n\u001b[1;32m    306\u001b[0m \u001b[38;5;28;01mif\u001b[39;00m \u001b[38;5;129;01mnot\u001b[39;00m settings\u001b[38;5;241m.\u001b[39m_offline \u001b[38;5;129;01mand\u001b[39;00m \u001b[38;5;129;01mnot\u001b[39;00m settings\u001b[38;5;241m.\u001b[39m_noop:\n\u001b[0;32m--> 307\u001b[0m     \u001b[43mwandb_login\u001b[49m\u001b[38;5;241;43m.\u001b[39;49m\u001b[43m_login\u001b[49m\u001b[43m(\u001b[49m\n\u001b[1;32m    308\u001b[0m \u001b[43m        \u001b[49m\u001b[43manonymous\u001b[49m\u001b[38;5;241;43m=\u001b[39;49m\u001b[43mkwargs\u001b[49m\u001b[38;5;241;43m.\u001b[39;49m\u001b[43mpop\u001b[49m\u001b[43m(\u001b[49m\u001b[38;5;124;43m\"\u001b[39;49m\u001b[38;5;124;43manonymous\u001b[39;49m\u001b[38;5;124;43m\"\u001b[39;49m\u001b[43m,\u001b[49m\u001b[43m \u001b[49m\u001b[38;5;28;43;01mNone\u001b[39;49;00m\u001b[43m)\u001b[49m\u001b[43m,\u001b[49m\n\u001b[1;32m    309\u001b[0m \u001b[43m        \u001b[49m\u001b[43mforce\u001b[49m\u001b[38;5;241;43m=\u001b[39;49m\u001b[43mkwargs\u001b[49m\u001b[38;5;241;43m.\u001b[39;49m\u001b[43mpop\u001b[49m\u001b[43m(\u001b[49m\u001b[38;5;124;43m\"\u001b[39;49m\u001b[38;5;124;43mforce\u001b[39;49m\u001b[38;5;124;43m\"\u001b[39;49m\u001b[43m,\u001b[49m\u001b[43m \u001b[49m\u001b[38;5;28;43;01mNone\u001b[39;49;00m\u001b[43m)\u001b[49m\u001b[43m,\u001b[49m\n\u001b[1;32m    310\u001b[0m \u001b[43m        \u001b[49m\u001b[43m_disable_warning\u001b[49m\u001b[38;5;241;43m=\u001b[39;49m\u001b[38;5;28;43;01mTrue\u001b[39;49;00m\u001b[43m,\u001b[49m\n\u001b[1;32m    311\u001b[0m \u001b[43m        \u001b[49m\u001b[43m_silent\u001b[49m\u001b[38;5;241;43m=\u001b[39;49m\u001b[43msettings\u001b[49m\u001b[38;5;241;43m.\u001b[39;49m\u001b[43mquiet\u001b[49m\u001b[43m \u001b[49m\u001b[38;5;129;43;01mor\u001b[39;49;00m\u001b[43m \u001b[49m\u001b[43msettings\u001b[49m\u001b[38;5;241;43m.\u001b[39;49m\u001b[43msilent\u001b[49m\u001b[43m,\u001b[49m\n\u001b[1;32m    312\u001b[0m \u001b[43m        \u001b[49m\u001b[43m_entity\u001b[49m\u001b[38;5;241;43m=\u001b[39;49m\u001b[43mkwargs\u001b[49m\u001b[38;5;241;43m.\u001b[39;49m\u001b[43mget\u001b[49m\u001b[43m(\u001b[49m\u001b[38;5;124;43m\"\u001b[39;49m\u001b[38;5;124;43mentity\u001b[39;49m\u001b[38;5;124;43m\"\u001b[39;49m\u001b[43m)\u001b[49m\u001b[43m \u001b[49m\u001b[38;5;129;43;01mor\u001b[39;49;00m\u001b[43m \u001b[49m\u001b[43msettings\u001b[49m\u001b[38;5;241;43m.\u001b[39;49m\u001b[43mentity\u001b[49m\u001b[43m,\u001b[49m\n\u001b[1;32m    313\u001b[0m \u001b[43m    \u001b[49m\u001b[43m)\u001b[49m\n\u001b[1;32m    315\u001b[0m \u001b[38;5;66;03m# apply updated global state after login was handled\u001b[39;00m\n\u001b[1;32m    316\u001b[0m wl \u001b[38;5;241m=\u001b[39m wandb\u001b[38;5;241m.\u001b[39msetup()\n",
      "File \u001b[0;32m/opt/conda/lib/python3.10/site-packages/wandb/sdk/wandb_login.py:334\u001b[0m, in \u001b[0;36m_login\u001b[0;34m(anonymous, key, relogin, host, force, timeout, _backend, _silent, _disable_warning, _entity)\u001b[0m\n\u001b[1;32m    331\u001b[0m     \u001b[38;5;28;01mreturn\u001b[39;00m logged_in\n\u001b[1;32m    333\u001b[0m \u001b[38;5;28;01mif\u001b[39;00m \u001b[38;5;129;01mnot\u001b[39;00m key:\n\u001b[0;32m--> 334\u001b[0m     \u001b[43mwlogin\u001b[49m\u001b[38;5;241;43m.\u001b[39;49m\u001b[43mprompt_api_key\u001b[49m\u001b[43m(\u001b[49m\u001b[43m)\u001b[49m\n\u001b[1;32m    336\u001b[0m \u001b[38;5;66;03m# make sure login credentials get to the backend\u001b[39;00m\n\u001b[1;32m    337\u001b[0m wlogin\u001b[38;5;241m.\u001b[39mpropogate_login()\n",
      "File \u001b[0;32m/opt/conda/lib/python3.10/site-packages/wandb/sdk/wandb_login.py:263\u001b[0m, in \u001b[0;36m_WandbLogin.prompt_api_key\u001b[0;34m(self)\u001b[0m\n\u001b[1;32m    257\u001b[0m \u001b[38;5;28;01mif\u001b[39;00m status \u001b[38;5;241m==\u001b[39m ApiKeyStatus\u001b[38;5;241m.\u001b[39mNOTTY:\n\u001b[1;32m    258\u001b[0m     directive \u001b[38;5;241m=\u001b[39m (\n\u001b[1;32m    259\u001b[0m         \u001b[38;5;124m\"\u001b[39m\u001b[38;5;124mwandb login [your_api_key]\u001b[39m\u001b[38;5;124m\"\u001b[39m\n\u001b[1;32m    260\u001b[0m         \u001b[38;5;28;01mif\u001b[39;00m \u001b[38;5;28mself\u001b[39m\u001b[38;5;241m.\u001b[39m_settings\u001b[38;5;241m.\u001b[39m_cli_only_mode\n\u001b[1;32m    261\u001b[0m         \u001b[38;5;28;01melse\u001b[39;00m \u001b[38;5;124m\"\u001b[39m\u001b[38;5;124mwandb.login(key=[your_api_key])\u001b[39m\u001b[38;5;124m\"\u001b[39m\n\u001b[1;32m    262\u001b[0m     )\n\u001b[0;32m--> 263\u001b[0m     \u001b[38;5;28;01mraise\u001b[39;00m UsageError(\u001b[38;5;124m\"\u001b[39m\u001b[38;5;124mapi_key not configured (no-tty). call \u001b[39m\u001b[38;5;124m\"\u001b[39m \u001b[38;5;241m+\u001b[39m directive)\n\u001b[1;32m    265\u001b[0m \u001b[38;5;28mself\u001b[39m\u001b[38;5;241m.\u001b[39mupdate_session(key, status\u001b[38;5;241m=\u001b[39mstatus)\n\u001b[1;32m    266\u001b[0m \u001b[38;5;28mself\u001b[39m\u001b[38;5;241m.\u001b[39m_key \u001b[38;5;241m=\u001b[39m key\n",
      "\u001b[0;31mUsageError\u001b[0m: api_key not configured (no-tty). call wandb.login(key=[your_api_key])"
     ]
    }
   ],
   "source": [
    "train_results=model.train(\n",
    "    data=\"/kaggle/working/kitti.yaml\",\n",
    "    epochs=20,\n",
    "    patience=3,\n",
    "    mixup=0.1,\n",
    "    project=\"yolov8n-kitti\",\n",
    ")"
   ]
  },
  {
   "cell_type": "code",
   "execution_count": null,
   "id": "e47d0859",
   "metadata": {
    "execution": {
     "iopub.execute_input": "2024-04-12T04:38:40.385431Z",
     "iopub.status.busy": "2024-04-12T04:38:40.385116Z",
     "iopub.status.idle": "2024-04-12T04:39:04.817417Z",
     "shell.execute_reply": "2024-04-12T04:39:04.816406Z",
     "shell.execute_reply.started": "2024-04-12T04:38:40.385381Z"
    },
    "papermill": {
     "duration": null,
     "end_time": null,
     "exception": null,
     "start_time": null,
     "status": "pending"
    },
    "tags": []
   },
   "outputs": [],
   "source": [
    "valid_results = model.val()\n"
   ]
  },
  {
   "cell_type": "code",
   "execution_count": null,
   "id": "cfd67f97",
   "metadata": {
    "execution": {
     "iopub.execute_input": "2024-04-12T04:39:04.819396Z",
     "iopub.status.busy": "2024-04-12T04:39:04.819040Z",
     "iopub.status.idle": "2024-04-12T04:39:05.420977Z",
     "shell.execute_reply": "2024-04-12T04:39:05.420034Z",
     "shell.execute_reply.started": "2024-04-12T04:39:04.819365Z"
    },
    "papermill": {
     "duration": null,
     "end_time": null,
     "exception": null,
     "start_time": null,
     "status": "pending"
    },
    "tags": []
   },
   "outputs": [],
   "source": [
    "plt.figure(figsize=(10,10))\n",
    "plt.imshow(Image.open(\"/kaggle/working/yolov8n-kitti/train/labels.jpg\"))\n",
    "plt.axis('off')\n",
    "plt.show()"
   ]
  },
  {
   "cell_type": "code",
   "execution_count": null,
   "id": "078cc56d",
   "metadata": {
    "execution": {
     "iopub.execute_input": "2024-04-12T04:39:05.422466Z",
     "iopub.status.busy": "2024-04-12T04:39:05.422164Z",
     "iopub.status.idle": "2024-04-12T04:39:05.426640Z",
     "shell.execute_reply": "2024-04-12T04:39:05.425789Z",
     "shell.execute_reply.started": "2024-04-12T04:39:05.422440Z"
    },
    "papermill": {
     "duration": null,
     "end_time": null,
     "exception": null,
     "start_time": null,
     "status": "pending"
    },
    "tags": []
   },
   "outputs": [],
   "source": [
    "import os"
   ]
  },
  {
   "cell_type": "code",
   "execution_count": null,
   "id": "a473c2b9",
   "metadata": {
    "execution": {
     "iopub.execute_input": "2024-04-12T04:39:05.428477Z",
     "iopub.status.busy": "2024-04-12T04:39:05.428090Z",
     "iopub.status.idle": "2024-04-12T04:39:05.438940Z",
     "shell.execute_reply": "2024-04-12T04:39:05.437935Z",
     "shell.execute_reply.started": "2024-04-12T04:39:05.428435Z"
    },
    "papermill": {
     "duration": null,
     "end_time": null,
     "exception": null,
     "start_time": null,
     "status": "pending"
    },
    "tags": []
   },
   "outputs": [],
   "source": [
    "os.listdir(\"/kaggle/working/yolov8n-kitti/train2\")"
   ]
  },
  {
   "cell_type": "code",
   "execution_count": null,
   "id": "3e186afe",
   "metadata": {
    "execution": {
     "iopub.execute_input": "2024-04-12T04:39:05.440709Z",
     "iopub.status.busy": "2024-04-12T04:39:05.440120Z",
     "iopub.status.idle": "2024-04-12T04:39:10.521661Z",
     "shell.execute_reply": "2024-04-12T04:39:10.520662Z",
     "shell.execute_reply.started": "2024-04-12T04:39:05.440674Z"
    },
    "papermill": {
     "duration": null,
     "end_time": null,
     "exception": null,
     "start_time": null,
     "status": "pending"
    },
    "tags": []
   },
   "outputs": [],
   "source": [
    "for file in os.listdir(\"/kaggle/working/yolov8n-kitti/train2\"):\n",
    "    if file.startswith(\"val\"):\n",
    "        plt.figure(figsize=(20,10))\n",
    "        plt.imshow(Image.open(\"/kaggle/working/yolov8n-kitti/train2/{}\".format(file)))\n",
    "        plt.title(file)\n",
    "        plt.axis('off')\n",
    "        plt.show()\n"
   ]
  },
  {
   "cell_type": "code",
   "execution_count": null,
   "id": "a0d6c550",
   "metadata": {
    "execution": {
     "iopub.execute_input": "2024-04-12T04:39:10.523284Z",
     "iopub.status.busy": "2024-04-12T04:39:10.522987Z",
     "iopub.status.idle": "2024-04-12T04:39:11.130966Z",
     "shell.execute_reply": "2024-04-12T04:39:11.129947Z",
     "shell.execute_reply.started": "2024-04-12T04:39:10.523257Z"
    },
    "papermill": {
     "duration": null,
     "end_time": null,
     "exception": null,
     "start_time": null,
     "status": "pending"
    },
    "tags": []
   },
   "outputs": [],
   "source": [
    "plt.figure(figsize=(10,10))\n",
    "plt.imshow(Image.open(\"/kaggle/working/yolov8n-kitti/train2/R_curve.png\"))\n",
    "plt.axis('off')\n",
    "plt.show()"
   ]
  },
  {
   "cell_type": "code",
   "execution_count": null,
   "id": "7e6d9432",
   "metadata": {
    "execution": {
     "iopub.execute_input": "2024-04-12T04:39:11.132657Z",
     "iopub.status.busy": "2024-04-12T04:39:11.132344Z",
     "iopub.status.idle": "2024-04-12T04:39:11.713407Z",
     "shell.execute_reply": "2024-04-12T04:39:11.712482Z",
     "shell.execute_reply.started": "2024-04-12T04:39:11.132630Z"
    },
    "papermill": {
     "duration": null,
     "end_time": null,
     "exception": null,
     "start_time": null,
     "status": "pending"
    },
    "tags": []
   },
   "outputs": [],
   "source": [
    "plt.figure(figsize=(10,10))\n",
    "plt.imshow(Image.open(\"/kaggle/working/yolov8n-kitti/train2/P_curve.png\"))\n",
    "plt.axis('off')\n",
    "plt.show()"
   ]
  },
  {
   "cell_type": "code",
   "execution_count": null,
   "id": "17817e35",
   "metadata": {
    "execution": {
     "iopub.execute_input": "2024-04-12T04:39:11.715099Z",
     "iopub.status.busy": "2024-04-12T04:39:11.714738Z",
     "iopub.status.idle": "2024-04-12T04:39:12.315541Z",
     "shell.execute_reply": "2024-04-12T04:39:12.314575Z",
     "shell.execute_reply.started": "2024-04-12T04:39:11.715068Z"
    },
    "papermill": {
     "duration": null,
     "end_time": null,
     "exception": null,
     "start_time": null,
     "status": "pending"
    },
    "tags": []
   },
   "outputs": [],
   "source": [
    "plt.figure(figsize=(10,10))\n",
    "plt.imshow(Image.open(\"/kaggle/working/yolov8n-kitti/train2/F1_curve.png\"))\n",
    "plt.axis('off')\n",
    "plt.show()"
   ]
  },
  {
   "cell_type": "code",
   "execution_count": null,
   "id": "7ec677f1",
   "metadata": {
    "execution": {
     "iopub.execute_input": "2024-04-12T04:39:12.317035Z",
     "iopub.status.busy": "2024-04-12T04:39:12.316717Z",
     "iopub.status.idle": "2024-04-12T04:39:12.903894Z",
     "shell.execute_reply": "2024-04-12T04:39:12.902892Z",
     "shell.execute_reply.started": "2024-04-12T04:39:12.317010Z"
    },
    "papermill": {
     "duration": null,
     "end_time": null,
     "exception": null,
     "start_time": null,
     "status": "pending"
    },
    "tags": []
   },
   "outputs": [],
   "source": [
    "plt.figure(figsize=(10,10))\n",
    "plt.imshow(Image.open(\"/kaggle/working/yolov8n-kitti/train2/PR_curve.png\"))\n",
    "plt.axis('off')\n",
    "plt.show()"
   ]
  },
  {
   "cell_type": "code",
   "execution_count": null,
   "id": "28619fca",
   "metadata": {
    "execution": {
     "iopub.execute_input": "2024-04-12T04:39:12.911024Z",
     "iopub.status.busy": "2024-04-12T04:39:12.910719Z",
     "iopub.status.idle": "2024-04-12T04:39:13.906083Z",
     "shell.execute_reply": "2024-04-12T04:39:13.905089Z",
     "shell.execute_reply.started": "2024-04-12T04:39:12.911001Z"
    },
    "papermill": {
     "duration": null,
     "end_time": null,
     "exception": null,
     "start_time": null,
     "status": "pending"
    },
    "tags": []
   },
   "outputs": [],
   "source": [
    "plt.figure(figsize=(10,10))\n",
    "plt.imshow(Image.open(\"/kaggle/working/yolov8n-kitti/train2/confusion_matrix.png\"))\n",
    "plt.axis('off')\n",
    "plt.show()"
   ]
  },
  {
   "cell_type": "code",
   "execution_count": null,
   "id": "d46ad37f",
   "metadata": {
    "execution": {
     "iopub.execute_input": "2024-04-12T04:39:13.907809Z",
     "iopub.status.busy": "2024-04-12T04:39:13.907400Z",
     "iopub.status.idle": "2024-04-12T04:39:14.871174Z",
     "shell.execute_reply": "2024-04-12T04:39:14.870189Z",
     "shell.execute_reply.started": "2024-04-12T04:39:13.907775Z"
    },
    "papermill": {
     "duration": null,
     "end_time": null,
     "exception": null,
     "start_time": null,
     "status": "pending"
    },
    "tags": []
   },
   "outputs": [],
   "source": [
    "plt.figure(figsize=(10,10))\n",
    "plt.imshow(Image.open(\"/kaggle/working/yolov8n-kitti/train2/confusion_matrix_normalized.png\"))\n",
    "plt.axis('off')\n",
    "plt.show()"
   ]
  },
  {
   "cell_type": "code",
   "execution_count": null,
   "id": "596307d1",
   "metadata": {
    "execution": {
     "iopub.execute_input": "2024-04-12T04:39:14.872907Z",
     "iopub.status.busy": "2024-04-12T04:39:14.872576Z",
     "iopub.status.idle": "2024-04-12T04:39:14.879680Z",
     "shell.execute_reply": "2024-04-12T04:39:14.878544Z",
     "shell.execute_reply.started": "2024-04-12T04:39:14.872881Z"
    },
    "papermill": {
     "duration": null,
     "end_time": null,
     "exception": null,
     "start_time": null,
     "status": "pending"
    },
    "tags": []
   },
   "outputs": [],
   "source": [
    "len(test)"
   ]
  },
  {
   "cell_type": "code",
   "execution_count": null,
   "id": "df02d760",
   "metadata": {
    "execution": {
     "iopub.execute_input": "2024-04-12T04:39:14.881423Z",
     "iopub.status.busy": "2024-04-12T04:39:14.881113Z",
     "iopub.status.idle": "2024-04-12T04:39:16.147773Z",
     "shell.execute_reply": "2024-04-12T04:39:16.146358Z",
     "shell.execute_reply.started": "2024-04-12T04:39:14.881397Z"
    },
    "papermill": {
     "duration": null,
     "end_time": null,
     "exception": null,
     "start_time": null,
     "status": "pending"
    },
    "tags": []
   },
   "outputs": [],
   "source": [
    "preds = model.predict([test[idx][0] for idx in np.random.randint(0,len(test),(20,))],save=True)"
   ]
  },
  {
   "cell_type": "code",
   "execution_count": null,
   "id": "2d9ae210",
   "metadata": {
    "execution": {
     "iopub.execute_input": "2024-04-12T04:39:16.151283Z",
     "iopub.status.busy": "2024-04-12T04:39:16.149191Z",
     "iopub.status.idle": "2024-04-12T04:39:16.184463Z",
     "shell.execute_reply": "2024-04-12T04:39:16.183380Z",
     "shell.execute_reply.started": "2024-04-12T04:39:16.151243Z"
    },
    "papermill": {
     "duration": null,
     "end_time": null,
     "exception": null,
     "start_time": null,
     "status": "pending"
    },
    "tags": []
   },
   "outputs": [],
   "source": [
    "preds"
   ]
  },
  {
   "cell_type": "code",
   "execution_count": null,
   "id": "1b1f4efd",
   "metadata": {
    "execution": {
     "iopub.execute_input": "2024-04-12T04:39:16.186245Z",
     "iopub.status.busy": "2024-04-12T04:39:16.185854Z",
     "iopub.status.idle": "2024-04-12T04:39:16.194845Z",
     "shell.execute_reply": "2024-04-12T04:39:16.193756Z",
     "shell.execute_reply.started": "2024-04-12T04:39:16.186212Z"
    },
    "papermill": {
     "duration": null,
     "end_time": null,
     "exception": null,
     "start_time": null,
     "status": "pending"
    },
    "tags": []
   },
   "outputs": [],
   "source": [
    "list(Path(\"/kaggle/working/yolov8n-kitti/train3/\").glob(\"*\"))"
   ]
  },
  {
   "cell_type": "code",
   "execution_count": null,
   "id": "43bc9ef9",
   "metadata": {
    "execution": {
     "iopub.execute_input": "2024-04-12T04:39:16.196397Z",
     "iopub.status.busy": "2024-04-12T04:39:16.196127Z",
     "iopub.status.idle": "2024-04-12T04:39:16.202269Z",
     "shell.execute_reply": "2024-04-12T04:39:16.201162Z",
     "shell.execute_reply.started": "2024-04-12T04:39:16.196373Z"
    },
    "papermill": {
     "duration": null,
     "end_time": null,
     "exception": null,
     "start_time": null,
     "status": "pending"
    },
    "tags": []
   },
   "outputs": [],
   "source": [
    "preds=list(Path(\"/kaggle/working/yolov8n-kitti/train3/\").glob(\"*\"))"
   ]
  },
  {
   "cell_type": "code",
   "execution_count": null,
   "id": "f0f57492",
   "metadata": {
    "execution": {
     "iopub.execute_input": "2024-04-12T04:39:16.204478Z",
     "iopub.status.busy": "2024-04-12T04:39:16.203656Z",
     "iopub.status.idle": "2024-04-12T04:39:16.212549Z",
     "shell.execute_reply": "2024-04-12T04:39:16.211518Z",
     "shell.execute_reply.started": "2024-04-12T04:39:16.204442Z"
    },
    "papermill": {
     "duration": null,
     "end_time": null,
     "exception": null,
     "start_time": null,
     "status": "pending"
    },
    "tags": []
   },
   "outputs": [],
   "source": [
    "preds"
   ]
  },
  {
   "cell_type": "code",
   "execution_count": null,
   "id": "5c3c419f",
   "metadata": {
    "execution": {
     "iopub.execute_input": "2024-04-12T04:39:16.213950Z",
     "iopub.status.busy": "2024-04-12T04:39:16.213609Z",
     "iopub.status.idle": "2024-04-12T04:39:16.225898Z",
     "shell.execute_reply": "2024-04-12T04:39:16.224776Z",
     "shell.execute_reply.started": "2024-04-12T04:39:16.213924Z"
    },
    "papermill": {
     "duration": null,
     "end_time": null,
     "exception": null,
     "start_time": null,
     "status": "pending"
    },
    "tags": []
   },
   "outputs": [],
   "source": [
    "def plot_images(images):\n",
    "    num_image=len(images)\n",
    "    rows=num_image\n",
    "    cols=1\n",
    "    fig,axes=plt.subplots(rows,cols,figsize=(15,80))\n",
    "    for ax in axes:\n",
    "        ax.axis(\"off\")\n",
    "    for i,img_path in enumerate(images):\n",
    "        img=Image.open(img_path)\n",
    "        axes[i].imshow(img)\n",
    "    plt.tight_layout()\n",
    "    plt.show()\n",
    "    "
   ]
  },
  {
   "cell_type": "code",
   "execution_count": null,
   "id": "e8713dd3",
   "metadata": {
    "execution": {
     "iopub.execute_input": "2024-04-12T04:39:16.227537Z",
     "iopub.status.busy": "2024-04-12T04:39:16.227239Z",
     "iopub.status.idle": "2024-04-12T04:39:26.822458Z",
     "shell.execute_reply": "2024-04-12T04:39:26.821412Z",
     "shell.execute_reply.started": "2024-04-12T04:39:16.227512Z"
    },
    "papermill": {
     "duration": null,
     "end_time": null,
     "exception": null,
     "start_time": null,
     "status": "pending"
    },
    "tags": []
   },
   "outputs": [],
   "source": [
    "plot_images(preds)"
   ]
  },
  {
   "cell_type": "code",
   "execution_count": null,
   "id": "1478efcf",
   "metadata": {
    "execution": {
     "iopub.execute_input": "2024-04-12T04:39:26.824374Z",
     "iopub.status.busy": "2024-04-12T04:39:26.823962Z",
     "iopub.status.idle": "2024-04-12T04:39:27.076811Z",
     "shell.execute_reply": "2024-04-12T04:39:27.075897Z",
     "shell.execute_reply.started": "2024-04-12T04:39:26.824336Z"
    },
    "papermill": {
     "duration": null,
     "end_time": null,
     "exception": null,
     "start_time": null,
     "status": "pending"
    },
    "tags": []
   },
   "outputs": [],
   "source": [
    "model.save(\"yolo8Model_Main.h5\")"
   ]
  },
  {
   "cell_type": "code",
   "execution_count": null,
   "id": "3fb3950a",
   "metadata": {
    "papermill": {
     "duration": null,
     "end_time": null,
     "exception": null,
     "start_time": null,
     "status": "pending"
    },
    "tags": []
   },
   "outputs": [],
   "source": []
  },
  {
   "cell_type": "code",
   "execution_count": null,
   "id": "0ac8c4b4",
   "metadata": {
    "papermill": {
     "duration": null,
     "end_time": null,
     "exception": null,
     "start_time": null,
     "status": "pending"
    },
    "tags": []
   },
   "outputs": [],
   "source": []
  }
 ],
 "metadata": {
  "kaggle": {
   "accelerator": "nvidiaTeslaT4",
   "dataSources": [
    {
     "datasetId": 976194,
     "sourceId": 1650695,
     "sourceType": "datasetVersion"
    },
    {
     "datasetId": 3673013,
     "sourceId": 6374376,
     "sourceType": "datasetVersion"
    }
   ],
   "dockerImageVersionId": 30683,
   "isGpuEnabled": true,
   "isInternetEnabled": true,
   "language": "python",
   "sourceType": "notebook"
  },
  "kernelspec": {
   "display_name": "Python 3",
   "language": "python",
   "name": "python3"
  },
  "language_info": {
   "codemirror_mode": {
    "name": "ipython",
    "version": 3
   },
   "file_extension": ".py",
   "mimetype": "text/x-python",
   "name": "python",
   "nbconvert_exporter": "python",
   "pygments_lexer": "ipython3",
   "version": "3.10.13"
  },
  "papermill": {
   "default_parameters": {},
   "duration": 304.417207,
   "end_time": "2024-04-12T04:52:19.299804",
   "environment_variables": {},
   "exception": true,
   "input_path": "__notebook__.ipynb",
   "output_path": "__notebook__.ipynb",
   "parameters": {},
   "start_time": "2024-04-12T04:47:14.882597",
   "version": "2.5.0"
  },
  "widgets": {
   "application/vnd.jupyter.widget-state+json": {
    "state": {
     "021388b830074b99860c9f54211c2e12": {
      "model_module": "@jupyter-widgets/controls",
      "model_module_version": "1.5.0",
      "model_name": "HTMLModel",
      "state": {
       "_dom_classes": [],
       "_model_module": "@jupyter-widgets/controls",
       "_model_module_version": "1.5.0",
       "_model_name": "HTMLModel",
       "_view_count": null,
       "_view_module": "@jupyter-widgets/controls",
       "_view_module_version": "1.5.0",
       "_view_name": "HTMLView",
       "description": "",
       "description_tooltip": null,
       "layout": "IPY_MODEL_c845892b81ea4b20bb857d310bc3f857",
       "placeholder": "​",
       "style": "IPY_MODEL_39d26903b4394440b3cc6b7c55585b5f",
       "value": "100%"
      }
     },
     "0b53d7d10bd744eb89e5af31418887eb": {
      "model_module": "@jupyter-widgets/controls",
      "model_module_version": "1.5.0",
      "model_name": "ProgressStyleModel",
      "state": {
       "_model_module": "@jupyter-widgets/controls",
       "_model_module_version": "1.5.0",
       "_model_name": "ProgressStyleModel",
       "_view_count": null,
       "_view_module": "@jupyter-widgets/base",
       "_view_module_version": "1.2.0",
       "_view_name": "StyleView",
       "bar_color": null,
       "description_width": ""
      }
     },
     "25e9d9ab11b14c6f83995a8eb993da4f": {
      "model_module": "@jupyter-widgets/controls",
      "model_module_version": "1.5.0",
      "model_name": "DescriptionStyleModel",
      "state": {
       "_model_module": "@jupyter-widgets/controls",
       "_model_module_version": "1.5.0",
       "_model_name": "DescriptionStyleModel",
       "_view_count": null,
       "_view_module": "@jupyter-widgets/base",
       "_view_module_version": "1.2.0",
       "_view_name": "StyleView",
       "description_width": ""
      }
     },
     "2ab4000c75aa480495677179ecffd758": {
      "model_module": "@jupyter-widgets/base",
      "model_module_version": "1.2.0",
      "model_name": "LayoutModel",
      "state": {
       "_model_module": "@jupyter-widgets/base",
       "_model_module_version": "1.2.0",
       "_model_name": "LayoutModel",
       "_view_count": null,
       "_view_module": "@jupyter-widgets/base",
       "_view_module_version": "1.2.0",
       "_view_name": "LayoutView",
       "align_content": null,
       "align_items": null,
       "align_self": null,
       "border": null,
       "bottom": null,
       "display": null,
       "flex": null,
       "flex_flow": null,
       "grid_area": null,
       "grid_auto_columns": null,
       "grid_auto_flow": null,
       "grid_auto_rows": null,
       "grid_column": null,
       "grid_gap": null,
       "grid_row": null,
       "grid_template_areas": null,
       "grid_template_columns": null,
       "grid_template_rows": null,
       "height": null,
       "justify_content": null,
       "justify_items": null,
       "left": null,
       "margin": null,
       "max_height": null,
       "max_width": null,
       "min_height": null,
       "min_width": null,
       "object_fit": null,
       "object_position": null,
       "order": null,
       "overflow": null,
       "overflow_x": null,
       "overflow_y": null,
       "padding": null,
       "right": null,
       "top": null,
       "visibility": null,
       "width": null
      }
     },
     "38ef94bd1c4945bdabfe04490db38c19": {
      "model_module": "@jupyter-widgets/controls",
      "model_module_version": "1.5.0",
      "model_name": "HTMLModel",
      "state": {
       "_dom_classes": [],
       "_model_module": "@jupyter-widgets/controls",
       "_model_module_version": "1.5.0",
       "_model_name": "HTMLModel",
       "_view_count": null,
       "_view_module": "@jupyter-widgets/controls",
       "_view_module_version": "1.5.0",
       "_view_name": "HTMLView",
       "description": "",
       "description_tooltip": null,
       "layout": "IPY_MODEL_943fb510f7da4262bbee4751b02788f5",
       "placeholder": "​",
       "style": "IPY_MODEL_c757696f888a4ee69d74ebc00fc65616",
       "value": "100%"
      }
     },
     "39d26903b4394440b3cc6b7c55585b5f": {
      "model_module": "@jupyter-widgets/controls",
      "model_module_version": "1.5.0",
      "model_name": "DescriptionStyleModel",
      "state": {
       "_model_module": "@jupyter-widgets/controls",
       "_model_module_version": "1.5.0",
       "_model_name": "DescriptionStyleModel",
       "_view_count": null,
       "_view_module": "@jupyter-widgets/base",
       "_view_module_version": "1.2.0",
       "_view_name": "StyleView",
       "description_width": ""
      }
     },
     "568de704d5394a6b90d287ba3e7fe68f": {
      "model_module": "@jupyter-widgets/controls",
      "model_module_version": "1.5.0",
      "model_name": "HTMLModel",
      "state": {
       "_dom_classes": [],
       "_model_module": "@jupyter-widgets/controls",
       "_model_module_version": "1.5.0",
       "_model_name": "HTMLModel",
       "_view_count": null,
       "_view_module": "@jupyter-widgets/controls",
       "_view_module_version": "1.5.0",
       "_view_name": "HTMLView",
       "description": "",
       "description_tooltip": null,
       "layout": "IPY_MODEL_95d50ce9734b4aa4bb616efa29bfb8df",
       "placeholder": "​",
       "style": "IPY_MODEL_cba02887e8be4351a297bbbddc0a7b21",
       "value": " 5984/5984 [03:22&lt;00:00, 29.23it/s]"
      }
     },
     "656128a5ea2d46e68f3a4b620e14152e": {
      "model_module": "@jupyter-widgets/controls",
      "model_module_version": "1.5.0",
      "model_name": "FloatProgressModel",
      "state": {
       "_dom_classes": [],
       "_model_module": "@jupyter-widgets/controls",
       "_model_module_version": "1.5.0",
       "_model_name": "FloatProgressModel",
       "_view_count": null,
       "_view_module": "@jupyter-widgets/controls",
       "_view_module_version": "1.5.0",
       "_view_name": "ProgressView",
       "bar_style": "success",
       "description": "",
       "description_tooltip": null,
       "layout": "IPY_MODEL_9738ea5cff8941d3988eabc43e65f4ef",
       "max": 1497.0,
       "min": 0.0,
       "orientation": "horizontal",
       "style": "IPY_MODEL_a47ebf4d9322405a916ba4569577cc8f",
       "value": 1497.0
      }
     },
     "6c3533afa0ab4c819c23cc9cfe0a7dce": {
      "model_module": "@jupyter-widgets/controls",
      "model_module_version": "1.5.0",
      "model_name": "HTMLModel",
      "state": {
       "_dom_classes": [],
       "_model_module": "@jupyter-widgets/controls",
       "_model_module_version": "1.5.0",
       "_model_name": "HTMLModel",
       "_view_count": null,
       "_view_module": "@jupyter-widgets/controls",
       "_view_module_version": "1.5.0",
       "_view_name": "HTMLView",
       "description": "",
       "description_tooltip": null,
       "layout": "IPY_MODEL_db7ed01cb80c423ea23747513fc047f5",
       "placeholder": "​",
       "style": "IPY_MODEL_25e9d9ab11b14c6f83995a8eb993da4f",
       "value": " 1497/1497 [00:50&lt;00:00, 29.49it/s]"
      }
     },
     "74f31ce38c6f470b93422a8b0413648a": {
      "model_module": "@jupyter-widgets/controls",
      "model_module_version": "1.5.0",
      "model_name": "HBoxModel",
      "state": {
       "_dom_classes": [],
       "_model_module": "@jupyter-widgets/controls",
       "_model_module_version": "1.5.0",
       "_model_name": "HBoxModel",
       "_view_count": null,
       "_view_module": "@jupyter-widgets/controls",
       "_view_module_version": "1.5.0",
       "_view_name": "HBoxView",
       "box_style": "",
       "children": [
        "IPY_MODEL_38ef94bd1c4945bdabfe04490db38c19",
        "IPY_MODEL_656128a5ea2d46e68f3a4b620e14152e",
        "IPY_MODEL_6c3533afa0ab4c819c23cc9cfe0a7dce"
       ],
       "layout": "IPY_MODEL_7b68ab9e64ce45779e0d0b0a4069a561"
      }
     },
     "7b68ab9e64ce45779e0d0b0a4069a561": {
      "model_module": "@jupyter-widgets/base",
      "model_module_version": "1.2.0",
      "model_name": "LayoutModel",
      "state": {
       "_model_module": "@jupyter-widgets/base",
       "_model_module_version": "1.2.0",
       "_model_name": "LayoutModel",
       "_view_count": null,
       "_view_module": "@jupyter-widgets/base",
       "_view_module_version": "1.2.0",
       "_view_name": "LayoutView",
       "align_content": null,
       "align_items": null,
       "align_self": null,
       "border": null,
       "bottom": null,
       "display": null,
       "flex": null,
       "flex_flow": null,
       "grid_area": null,
       "grid_auto_columns": null,
       "grid_auto_flow": null,
       "grid_auto_rows": null,
       "grid_column": null,
       "grid_gap": null,
       "grid_row": null,
       "grid_template_areas": null,
       "grid_template_columns": null,
       "grid_template_rows": null,
       "height": null,
       "justify_content": null,
       "justify_items": null,
       "left": null,
       "margin": null,
       "max_height": null,
       "max_width": null,
       "min_height": null,
       "min_width": null,
       "object_fit": null,
       "object_position": null,
       "order": null,
       "overflow": null,
       "overflow_x": null,
       "overflow_y": null,
       "padding": null,
       "right": null,
       "top": null,
       "visibility": null,
       "width": null
      }
     },
     "943fb510f7da4262bbee4751b02788f5": {
      "model_module": "@jupyter-widgets/base",
      "model_module_version": "1.2.0",
      "model_name": "LayoutModel",
      "state": {
       "_model_module": "@jupyter-widgets/base",
       "_model_module_version": "1.2.0",
       "_model_name": "LayoutModel",
       "_view_count": null,
       "_view_module": "@jupyter-widgets/base",
       "_view_module_version": "1.2.0",
       "_view_name": "LayoutView",
       "align_content": null,
       "align_items": null,
       "align_self": null,
       "border": null,
       "bottom": null,
       "display": null,
       "flex": null,
       "flex_flow": null,
       "grid_area": null,
       "grid_auto_columns": null,
       "grid_auto_flow": null,
       "grid_auto_rows": null,
       "grid_column": null,
       "grid_gap": null,
       "grid_row": null,
       "grid_template_areas": null,
       "grid_template_columns": null,
       "grid_template_rows": null,
       "height": null,
       "justify_content": null,
       "justify_items": null,
       "left": null,
       "margin": null,
       "max_height": null,
       "max_width": null,
       "min_height": null,
       "min_width": null,
       "object_fit": null,
       "object_position": null,
       "order": null,
       "overflow": null,
       "overflow_x": null,
       "overflow_y": null,
       "padding": null,
       "right": null,
       "top": null,
       "visibility": null,
       "width": null
      }
     },
     "95d50ce9734b4aa4bb616efa29bfb8df": {
      "model_module": "@jupyter-widgets/base",
      "model_module_version": "1.2.0",
      "model_name": "LayoutModel",
      "state": {
       "_model_module": "@jupyter-widgets/base",
       "_model_module_version": "1.2.0",
       "_model_name": "LayoutModel",
       "_view_count": null,
       "_view_module": "@jupyter-widgets/base",
       "_view_module_version": "1.2.0",
       "_view_name": "LayoutView",
       "align_content": null,
       "align_items": null,
       "align_self": null,
       "border": null,
       "bottom": null,
       "display": null,
       "flex": null,
       "flex_flow": null,
       "grid_area": null,
       "grid_auto_columns": null,
       "grid_auto_flow": null,
       "grid_auto_rows": null,
       "grid_column": null,
       "grid_gap": null,
       "grid_row": null,
       "grid_template_areas": null,
       "grid_template_columns": null,
       "grid_template_rows": null,
       "height": null,
       "justify_content": null,
       "justify_items": null,
       "left": null,
       "margin": null,
       "max_height": null,
       "max_width": null,
       "min_height": null,
       "min_width": null,
       "object_fit": null,
       "object_position": null,
       "order": null,
       "overflow": null,
       "overflow_x": null,
       "overflow_y": null,
       "padding": null,
       "right": null,
       "top": null,
       "visibility": null,
       "width": null
      }
     },
     "9738ea5cff8941d3988eabc43e65f4ef": {
      "model_module": "@jupyter-widgets/base",
      "model_module_version": "1.2.0",
      "model_name": "LayoutModel",
      "state": {
       "_model_module": "@jupyter-widgets/base",
       "_model_module_version": "1.2.0",
       "_model_name": "LayoutModel",
       "_view_count": null,
       "_view_module": "@jupyter-widgets/base",
       "_view_module_version": "1.2.0",
       "_view_name": "LayoutView",
       "align_content": null,
       "align_items": null,
       "align_self": null,
       "border": null,
       "bottom": null,
       "display": null,
       "flex": null,
       "flex_flow": null,
       "grid_area": null,
       "grid_auto_columns": null,
       "grid_auto_flow": null,
       "grid_auto_rows": null,
       "grid_column": null,
       "grid_gap": null,
       "grid_row": null,
       "grid_template_areas": null,
       "grid_template_columns": null,
       "grid_template_rows": null,
       "height": null,
       "justify_content": null,
       "justify_items": null,
       "left": null,
       "margin": null,
       "max_height": null,
       "max_width": null,
       "min_height": null,
       "min_width": null,
       "object_fit": null,
       "object_position": null,
       "order": null,
       "overflow": null,
       "overflow_x": null,
       "overflow_y": null,
       "padding": null,
       "right": null,
       "top": null,
       "visibility": null,
       "width": null
      }
     },
     "a47ebf4d9322405a916ba4569577cc8f": {
      "model_module": "@jupyter-widgets/controls",
      "model_module_version": "1.5.0",
      "model_name": "ProgressStyleModel",
      "state": {
       "_model_module": "@jupyter-widgets/controls",
       "_model_module_version": "1.5.0",
       "_model_name": "ProgressStyleModel",
       "_view_count": null,
       "_view_module": "@jupyter-widgets/base",
       "_view_module_version": "1.2.0",
       "_view_name": "StyleView",
       "bar_color": null,
       "description_width": ""
      }
     },
     "c757696f888a4ee69d74ebc00fc65616": {
      "model_module": "@jupyter-widgets/controls",
      "model_module_version": "1.5.0",
      "model_name": "DescriptionStyleModel",
      "state": {
       "_model_module": "@jupyter-widgets/controls",
       "_model_module_version": "1.5.0",
       "_model_name": "DescriptionStyleModel",
       "_view_count": null,
       "_view_module": "@jupyter-widgets/base",
       "_view_module_version": "1.2.0",
       "_view_name": "StyleView",
       "description_width": ""
      }
     },
     "c845892b81ea4b20bb857d310bc3f857": {
      "model_module": "@jupyter-widgets/base",
      "model_module_version": "1.2.0",
      "model_name": "LayoutModel",
      "state": {
       "_model_module": "@jupyter-widgets/base",
       "_model_module_version": "1.2.0",
       "_model_name": "LayoutModel",
       "_view_count": null,
       "_view_module": "@jupyter-widgets/base",
       "_view_module_version": "1.2.0",
       "_view_name": "LayoutView",
       "align_content": null,
       "align_items": null,
       "align_self": null,
       "border": null,
       "bottom": null,
       "display": null,
       "flex": null,
       "flex_flow": null,
       "grid_area": null,
       "grid_auto_columns": null,
       "grid_auto_flow": null,
       "grid_auto_rows": null,
       "grid_column": null,
       "grid_gap": null,
       "grid_row": null,
       "grid_template_areas": null,
       "grid_template_columns": null,
       "grid_template_rows": null,
       "height": null,
       "justify_content": null,
       "justify_items": null,
       "left": null,
       "margin": null,
       "max_height": null,
       "max_width": null,
       "min_height": null,
       "min_width": null,
       "object_fit": null,
       "object_position": null,
       "order": null,
       "overflow": null,
       "overflow_x": null,
       "overflow_y": null,
       "padding": null,
       "right": null,
       "top": null,
       "visibility": null,
       "width": null
      }
     },
     "cba02887e8be4351a297bbbddc0a7b21": {
      "model_module": "@jupyter-widgets/controls",
      "model_module_version": "1.5.0",
      "model_name": "DescriptionStyleModel",
      "state": {
       "_model_module": "@jupyter-widgets/controls",
       "_model_module_version": "1.5.0",
       "_model_name": "DescriptionStyleModel",
       "_view_count": null,
       "_view_module": "@jupyter-widgets/base",
       "_view_module_version": "1.2.0",
       "_view_name": "StyleView",
       "description_width": ""
      }
     },
     "cc3413dc0221490bb235c0d27d684afc": {
      "model_module": "@jupyter-widgets/controls",
      "model_module_version": "1.5.0",
      "model_name": "FloatProgressModel",
      "state": {
       "_dom_classes": [],
       "_model_module": "@jupyter-widgets/controls",
       "_model_module_version": "1.5.0",
       "_model_name": "FloatProgressModel",
       "_view_count": null,
       "_view_module": "@jupyter-widgets/controls",
       "_view_module_version": "1.5.0",
       "_view_name": "ProgressView",
       "bar_style": "success",
       "description": "",
       "description_tooltip": null,
       "layout": "IPY_MODEL_2ab4000c75aa480495677179ecffd758",
       "max": 5984.0,
       "min": 0.0,
       "orientation": "horizontal",
       "style": "IPY_MODEL_0b53d7d10bd744eb89e5af31418887eb",
       "value": 5984.0
      }
     },
     "db7ed01cb80c423ea23747513fc047f5": {
      "model_module": "@jupyter-widgets/base",
      "model_module_version": "1.2.0",
      "model_name": "LayoutModel",
      "state": {
       "_model_module": "@jupyter-widgets/base",
       "_model_module_version": "1.2.0",
       "_model_name": "LayoutModel",
       "_view_count": null,
       "_view_module": "@jupyter-widgets/base",
       "_view_module_version": "1.2.0",
       "_view_name": "LayoutView",
       "align_content": null,
       "align_items": null,
       "align_self": null,
       "border": null,
       "bottom": null,
       "display": null,
       "flex": null,
       "flex_flow": null,
       "grid_area": null,
       "grid_auto_columns": null,
       "grid_auto_flow": null,
       "grid_auto_rows": null,
       "grid_column": null,
       "grid_gap": null,
       "grid_row": null,
       "grid_template_areas": null,
       "grid_template_columns": null,
       "grid_template_rows": null,
       "height": null,
       "justify_content": null,
       "justify_items": null,
       "left": null,
       "margin": null,
       "max_height": null,
       "max_width": null,
       "min_height": null,
       "min_width": null,
       "object_fit": null,
       "object_position": null,
       "order": null,
       "overflow": null,
       "overflow_x": null,
       "overflow_y": null,
       "padding": null,
       "right": null,
       "top": null,
       "visibility": null,
       "width": null
      }
     },
     "dd55a4ec67c04675ba821dead9181c61": {
      "model_module": "@jupyter-widgets/base",
      "model_module_version": "1.2.0",
      "model_name": "LayoutModel",
      "state": {
       "_model_module": "@jupyter-widgets/base",
       "_model_module_version": "1.2.0",
       "_model_name": "LayoutModel",
       "_view_count": null,
       "_view_module": "@jupyter-widgets/base",
       "_view_module_version": "1.2.0",
       "_view_name": "LayoutView",
       "align_content": null,
       "align_items": null,
       "align_self": null,
       "border": null,
       "bottom": null,
       "display": null,
       "flex": null,
       "flex_flow": null,
       "grid_area": null,
       "grid_auto_columns": null,
       "grid_auto_flow": null,
       "grid_auto_rows": null,
       "grid_column": null,
       "grid_gap": null,
       "grid_row": null,
       "grid_template_areas": null,
       "grid_template_columns": null,
       "grid_template_rows": null,
       "height": null,
       "justify_content": null,
       "justify_items": null,
       "left": null,
       "margin": null,
       "max_height": null,
       "max_width": null,
       "min_height": null,
       "min_width": null,
       "object_fit": null,
       "object_position": null,
       "order": null,
       "overflow": null,
       "overflow_x": null,
       "overflow_y": null,
       "padding": null,
       "right": null,
       "top": null,
       "visibility": null,
       "width": null
      }
     },
     "e7b39a4ecd7d4612a2bc4414aa78b50f": {
      "model_module": "@jupyter-widgets/controls",
      "model_module_version": "1.5.0",
      "model_name": "HBoxModel",
      "state": {
       "_dom_classes": [],
       "_model_module": "@jupyter-widgets/controls",
       "_model_module_version": "1.5.0",
       "_model_name": "HBoxModel",
       "_view_count": null,
       "_view_module": "@jupyter-widgets/controls",
       "_view_module_version": "1.5.0",
       "_view_name": "HBoxView",
       "box_style": "",
       "children": [
        "IPY_MODEL_021388b830074b99860c9f54211c2e12",
        "IPY_MODEL_cc3413dc0221490bb235c0d27d684afc",
        "IPY_MODEL_568de704d5394a6b90d287ba3e7fe68f"
       ],
       "layout": "IPY_MODEL_dd55a4ec67c04675ba821dead9181c61"
      }
     }
    },
    "version_major": 2,
    "version_minor": 0
   }
  }
 },
 "nbformat": 4,
 "nbformat_minor": 5
}
